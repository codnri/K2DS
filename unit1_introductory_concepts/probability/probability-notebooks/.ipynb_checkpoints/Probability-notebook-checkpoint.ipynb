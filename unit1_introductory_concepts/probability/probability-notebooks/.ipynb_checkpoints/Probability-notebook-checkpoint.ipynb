{
 "cells": [
  {
   "cell_type": "code",
   "execution_count": 2,
   "metadata": {},
   "outputs": [
    {
     "data": {
      "text/html": [
       "\n",
       "<style>\n",
       "    p {\n",
       "        font-size: 1.2em;\n",
       "        line-height: 1.5em;\n",
       "    }\n",
       "</style>\n"
      ],
      "text/plain": [
       "<IPython.core.display.HTML object>"
      ]
     },
     "execution_count": 2,
     "metadata": {},
     "output_type": "execute_result"
    }
   ],
   "source": [
    "from IPython.core.display import HTML\n",
    "\n",
    "HTML(\"\"\"\n",
    "<style>\n",
    "    p {\n",
    "        font-size: 1.2em;\n",
    "        line-height: 1.5em;\n",
    "    }\n",
    "</style>\n",
    "\"\"\")"
   ]
  },
  {
   "cell_type": "markdown",
   "metadata": {
    "collapsed": true
   },
   "source": [
    "# Probability\n",
    "## Introduction\n",
    "As the saying goes, invention is the mother of necessity, and developments in mathematics have been no exception.  Geometry is believed to have born from practical needs in architecture, surveying, and astronomy.  Similarly, algebra was likely the product of symbolically abstracting geometric relationships and commerce computations.  Probability, on the other hand, had more questionable origins in a common human vice, namely, gambling!\n",
    "\n",
    "In this notebook, we'll cover the basics of probability theory and then look at some common distributions and how they are applicable to Data Science.  The breakdown will be as follows:\n",
    "\n",
    "- Bernoulli Random Variables\n",
    "- Expectation Values and Variance\n",
    "- Conditional Probability\n",
    "- Distribution Tails\n",
    "- Common Distributions:\n",
    " - Binomial\n",
    " - Poisson\n",
    " - Normal\n",
    " - Multivariate Gaussian\n",
    " - Exponential\n",
    " - Log-Normal\n",
    "\n",
    "It is also important to distinguish *probability* from *statistics*, although the two are closely related.  Probability tends to be a theoretical framework for performing calculations on *random variables* whereas *statistics* is using the models provided from probability to draw inferences from real-world data.  For example, probability provides the mathematics to describe the outcome of a die roll while statistics can answer the question of whether or not our die is [loaded](https://www.wikihow.com/Load-Dice)."
   ]
  },
  {
   "cell_type": "markdown",
   "metadata": {},
   "source": [
    "# Bernoulli Random Variables\n",
    "The simplest probabilistic model is the case of a binary variable, taking values of 0 or 1, having probability denoted $p$ and $1-p$ respectively.  An outcome having these properties is said to be a *Bernoulli Random Variable*, a simple example being a coin flip.\n",
    "\n",
    "Consider the below bar-chart of the outcome of 100 coin flips."
   ]
  },
  {
   "cell_type": "code",
   "execution_count": 3,
   "metadata": {},
   "outputs": [
    {
     "name": "stdout",
     "output_type": "stream",
     "text": [
      "[5 3 2 0 1]\n"
     ]
    }
   ],
   "source": [
    "import numpy as np\n",
    "\n",
    "a1 = np.array([0, 1, 1, 0, 1, 0, 0, 0,4,2,2])\n",
    "c = np.bincount(a1)\n",
    "print(c)   # [5 3]"
   ]
  },
  {
   "cell_type": "code",
   "execution_count": 4,
   "metadata": {},
   "outputs": [
    {
     "name": "stdout",
     "output_type": "stream",
     "text": [
      "[1 1 1 1 0 1 0 1 1 0 1 1 1 1 0 0 0 1 1 1 1 1 0 1 0 1 0 1 1 0 0 1 0 1 0 1 1\n",
      " 1 1 1 0 0 1 0 1 1 0 0 0 0 1 0 1 0 0 0 1 0 0 0 0 0 1 0 0 0 1 0 1 0 1 0 1 1\n",
      " 1 0 0 0 0 0 0 0 0 1 1 0 1 0 1 1 0 1 0 1 0 0 1 0 1 0]\n",
      "[51 49]\n"
     ]
    },
    {
     "data": {
      "text/plain": [
       "<Figure size 640x480 with 1 Axes>"
      ]
     },
     "metadata": {},
     "output_type": "display_data"
    }
   ],
   "source": [
    "import numpy as np\n",
    "import matplotlib.pyplot as plt\n",
    "\n",
    "# Compute\n",
    "np.random.seed(0)\n",
    "X = np.random.binomial(n = 1, p = 0.5, size = 100)\n",
    "print(X)\n",
    "counts = np.bincount(X)\n",
    "print(counts)\n",
    "# Plot\n",
    "# plt.bar(x = range(len(counts)), height = counts/len(X), align = 'center')\n",
    "plt.bar(x = range(len(counts)), height = counts/len(X), align = 'center')\n",
    "\n",
    "plt.title('Bernoulli Random Variable\\np = 0.5')\n",
    "\n",
    "plt.ylabel('Freq')\n",
    "plt.xticks([0, 1], ['Tail', 'Head'])\n",
    "plt.show()"
   ]
  },
  {
   "cell_type": "markdown",
   "metadata": {},
   "source": [
    "The above shows that about half of the outcomes were heads and the tails which is exactly what we would expect if the coin was unbiased.  If we want to model a slightly head-biased coin, we can adjust the $p$ parameter, producing the following."
   ]
  },
  {
   "cell_type": "code",
   "execution_count": 5,
   "metadata": {},
   "outputs": [
    {
     "data": {
      "image/png": "[encoded data removed]",
      "text/plain": [
       "<Figure size 432x288 with 1 Axes>"
      ]
     },
     "metadata": {},
     "output_type": "display_data"
    }
   ],
   "source": [
    "# Compute\n",
    "np.random.seed(0)\n",
    "X = np.random.binomial(n = 1, p = 0.6, size = 100)\n",
    "counts = np.bincount(X)\n",
    "\n",
    "# Plot\n",
    "plt.bar(x = range(len(counts)), height = counts/len(X), align = 'center')\n",
    "plt.title('Bernoulli Random Variable\\np = 0.6')\n",
    "plt.ylabel('Freq')\n",
    "plt.xticks([0, 1], ['Tail', 'Head'])\n",
    "plt.show()"
   ]
  },
  {
   "cell_type": "markdown",
   "metadata": {},
   "source": [
    "The outcome is now slightly biased toward heads.\n",
    "\n",
    "**Now suppose you've been told that you'll receive `$`5 for each tail and lose `$`2 for each head using our biased coin as above.  Should you play this game?**"
   ]
  },
  {
   "cell_type": "code",
   "execution_count": 6,
   "metadata": {},
   "outputs": [
    {
     "data": {
      "text/plain": [
       "0.8"
      ]
     },
     "execution_count": 6,
     "metadata": {},
     "output_type": "execute_result"
    }
   ],
   "source": [
    "-2*0.6 + 5*(1-0.6)"
   ]
  },
  {
   "cell_type": "markdown",
   "metadata": {},
   "source": [
    "The plots above are referred to as the *probability mass function* since they (empirically in our case) represent the probability of obtaining each outcome.  Note that the probability of each outcome *must* add to one.\n",
    "\n",
    "You may notice that our outcomes here are represented by non-negative, finite, whole numbers.  Such a *random variable* is called *discrete* as opposed to *continuous* which we shall examine in the next section."
   ]
  },
  {
   "cell_type": "markdown",
   "metadata": {},
   "source": [
    "**Assume the same payout and distribution as above and compute the result by simulating an actual coin toss for many different numbers of tosses.  Are the results the same?  Comment and plot your results.**"
   ]
  },
  {
   "cell_type": "code",
   "execution_count": null,
   "metadata": {},
   "outputs": [],
   "source": []
  },
  {
   "cell_type": "markdown",
   "metadata": {},
   "source": [
    "## Continuous versus Discrete: The Uniform Distribution\n",
    "Just as we started with the simplest of distributions for the discrete case, we will do the same for continuous.  What distinguishes a discrete random variable from a continuous is that a continuous variable can take on *any* value as opposed to just finite non-negative whole numbers.\n",
    "\n",
    "To illustrate this, consider a lottery in which a computer draws a random real number between -1 and 1.  Our previous analysis will not work here since we have not only negative values but also non-whole numbers as well.  As before, let's plot an empirical distribution and take a look."
   ]
  },
  {
   "cell_type": "code",
   "execution_count": 7,
   "metadata": {},
   "outputs": [
    {
     "data": {
      "image/png": "[encoded data removed]",
      "text/plain": [
       "<Figure size 432x288 with 1 Axes>"
      ]
     },
     "metadata": {},
     "output_type": "display_data"
    }
   ],
   "source": [
    "# Generate random numbers on the interval -1 to 1\n",
    "# Compute\n",
    "np.random.seed(0)\n",
    "\n",
    "a = -1\n",
    "b = 1\n",
    "X = (b - a) * np.random.sample(10000) + a\n",
    "\n",
    "# Plot\n",
    "plt.hist(X, bins = 'auto')\n",
    "plt.title('Random Lottery')\n",
    "plt.ylabel('Count')\n",
    "plt.show()"
   ]
  },
  {
   "cell_type": "markdown",
   "metadata": {},
   "source": [
    "As can be seen above, the distribution appears to be approximately uniform across the interval $[0, 1]$, and is thus the appropriately named *Uniform Distribution*.  Stated mathematically\n",
    "\n",
    "$$f(x)=\\begin{cases}\n",
    "  \\frac{1}{b - a} & \\mathrm{for}\\ a \\le x \\le b, \\\\[8pt]\n",
    "  0 & \\mathrm{for}\\ x<a\\ \\mathrm{or}\\ x>b\n",
    "  \\end{cases}$$\n",
    "  \n",
    "Where $a$ and $b$ are on some interval in which $b > a$.  The above is referred to as *Probability Density Function*, or $PDF$ of the uniform distribution over $[a, b]$ denoted $unif(a, b)$, and are the continuous analogy of the discrete's *probability mass function*.  As with the discrete case, there are some constraints on a valid PDF, namely\n",
    "\n",
    "- $f(x)$ is never negative\n",
    "- $\\int f(x) dx = 1$\n",
    "\n",
    "in otherwords, the probability must never be negative (clearly) and must always add up to one.  The actual $PDF$ $unif(0, 1)$ looks like the following."
   ]
  },
  {
   "cell_type": "code",
   "execution_count": 8,
   "metadata": {},
   "outputs": [
    {
     "name": "stdout",
     "output_type": "stream",
     "text": [
      "[0]\n"
     ]
    },
    {
     "data": {
      "image/png": "[encoded data removed]",
      "text/plain": [
       "<Figure size 432x288 with 1 Axes>"
      ]
     },
     "metadata": {},
     "output_type": "display_data"
    }
   ],
   "source": [
    "a = 0\n",
    "b = 1\n",
    "\n",
    "X = [a]\n",
    "print(X)\n",
    "y = [1/(b - a)]\n",
    "\n",
    "plt.bar(x = X, height = y, width = b - a, align = 'edge')\n",
    "plt.xlabel('X')\n",
    "plt.ylabel('f(x)')\n",
    "plt.title('unif(0,1)')\n",
    "plt.show()"
   ]
  },
  {
   "cell_type": "markdown",
   "metadata": {},
   "source": [
    "Also of interest is the *Cumulative Distribution Function* or $CDF$.  The $CDF$ represents the probability of finding a value less than or equal to a given $x$.  Stated mathematically\n",
    "\n",
    "$$F_X(x) = \\operatorname{P}(X\\leq x)$$\n",
    "where\n",
    "$$F_X(x) = \\int_{-\\infty}^x f_X(t)\\,dt$$\n",
    "\n",
    "Typically, our $PDF$ is denoted $f(X)$ and our $CDF$ as $F(X)$ as seen above.  Depending on the circumstance, it may be easier to work with a $CDF$ than a $PDF$ so it is important to keep both of these tools at your disposal.  For the uniform distribution, the $CDF$ mathematically is\n",
    "\n",
    "$$F(x)= \\begin{cases}\n",
    "  0 & \\text{for }x < a \\\\[8pt]\n",
    "  \\frac{x-a}{b-a} & \\text{for }a \\le x \\le b \\\\[8pt]\n",
    "  1 & \\text{for }x > b\n",
    "  \\end{cases}$$\n",
    "  \n",
    "or graphically, for our $unif(0,1)$, as"
   ]
  },
  {
   "cell_type": "code",
   "execution_count": 9,
   "metadata": {},
   "outputs": [
    {
     "data": {
      "image/png": "[encoded data removed]",
      "text/plain": [
       "<Figure size 432x288 with 1 Axes>"
      ]
     },
     "metadata": {},
     "output_type": "display_data"
    }
   ],
   "source": [
    "a = 0\n",
    "b = 1\n",
    "\n",
    "X = np.arange(-2, 2, 0.01)\n",
    "y = [0 if x < a else 1 if x > b else (x-a)/(b-a) for x in X]\n",
    "\n",
    "plt.plot(X, y)\n",
    "plt.xlabel('X')\n",
    "plt.ylabel('f(x)')\n",
    "plt.title('PDF(X)')\n",
    "plt.show()"
   ]
  },
  {
   "cell_type": "markdown",
   "metadata": {},
   "source": [
    "**Reproduce the $pdf(X)$ and $CDF(X)$ as above but on the interval $[-1, 1]$ and then generate random data points from the same distributions, plotting them and computing the total area under the curve.  Comment on your results.**"
   ]
  },
  {
   "cell_type": "code",
   "execution_count": 10,
   "metadata": {},
   "outputs": [
    {
     "data": {
      "image/png": "[encoded data removed]",
      "text/plain": [
       "<Figure size 432x288 with 1 Axes>"
      ]
     },
     "metadata": {},
     "output_type": "display_data"
    },
    {
     "name": "stdout",
     "output_type": "stream",
     "text": [
      "Area: 1.0\n"
     ]
    }
   ],
   "source": [
    "a = -1\n",
    "b = 1\n",
    "\n",
    "# Compute pdf\n",
    "X = [a]\n",
    "y = [1/(b - a)]\n",
    "\n",
    "# Plot\n",
    "plt.bar(x = X, height = y, width = b - a, align = 'edge')\n",
    "plt.xlabel('X')\n",
    "plt.ylabel('f(x)')\n",
    "plt.title('unif(0,1)')\n",
    "plt.show()\n",
    "\n",
    "# Area under curve\n",
    "area = (1 - (X[0]))*(y[0] - 0)\n",
    "print('Area: ' + str(area))"
   ]
  },
  {
   "cell_type": "markdown",
   "metadata": {},
   "source": [
    "As an important side-note, you may encounter a situation when dealing with real-world data in which your distribution cannot be modeled entirely using discrete or continuous models alone.  In such a case, you may find yourself introducing a *joint $PDF$*.\n",
    "\n",
    "Consider the heights of all crops in a field for example, both sprouted and unsprouted.  If we find that many of the crops have not sprouted, then we will have a very sharp spike at $x = 0$ as illustrated in the following."
   ]
  },
  {
   "cell_type": "code",
   "execution_count": 11,
   "metadata": {},
   "outputs": [
    {
     "name": "stdout",
     "output_type": "stream",
     "text": [
      "[ 2.75878035  0.39739635  0.9853924   0.07665061  0.02371553 11.1815532\n",
      "  1.33962965  0.93050909  0.43674016  3.29212335]\n"
     ]
    }
   ],
   "source": [
    "ans = np.random.exponential(2,10)\n",
    "print(ans) \n"
   ]
  },
  {
   "cell_type": "code",
   "execution_count": 12,
   "metadata": {},
   "outputs": [
    {
     "data": {
      "image/png": "[encoded data removed]",
      "text/plain": [
       "<Figure size 432x288 with 1 Axes>"
      ]
     },
     "metadata": {},
     "output_type": "display_data"
    }
   ],
   "source": [
    "# Get random heights\n",
    "np.random.seed(0)\n",
    "heights = np.random.exponential(size = 1000)\n",
    "heights = np.append(heights, np.zeros(700))\n",
    "\n",
    "# Plot histogram\n",
    "plt.hist(heights, bins = 'auto', density = True)\n",
    "plt.title('Crop Heights')\n",
    "plt.ylabel('Freq')\n",
    "plt.show()"
   ]
  },
  {
   "cell_type": "markdown",
   "metadata": {},
   "source": [
    "As can be seen, the sharp spike at 0 really hides the structure of the rest of the histogram.  A better approach is to remove these values from the data, and indicate with a pie-chart the portion of zeros in the data."
   ]
  },
  {
   "cell_type": "code",
   "execution_count": 13,
   "metadata": {},
   "outputs": [
    {
     "name": "stdout",
     "output_type": "stream",
     "text": [
      "[False  True False False False False  True  True False False]\n",
      "[7 3]\n"
     ]
    }
   ],
   "source": [
    "test = np.array([1,2,3,1,4,1,2,2,1,0])\n",
    "print((test == 2))\n",
    "cnt = np.bincount(test == 2)\n",
    "print(cnt)\n",
    "# print(heights)"
   ]
  },
  {
   "cell_type": "code",
   "execution_count": 14,
   "metadata": {
    "scrolled": true
   },
   "outputs": [
    {
     "name": "stdout",
     "output_type": "stream",
     "text": [
      "[1000  700]\n"
     ]
    },
    {
     "data": {
      "image/png": "[encoded data removed]",
      "text/plain": [
       "<Figure size 1008x432 with 2 Axes>"
      ]
     },
     "metadata": {},
     "output_type": "display_data"
    }
   ],
   "source": [
    "counts = np.bincount(heights == 0)\n",
    "print(counts)\n",
    "plt.figure(figsize = (14,6))\n",
    "plt.subplot(1, 2, 1)\n",
    "plt.pie(counts, labels = ['Sprouted', 'Unsprouted'])\n",
    "\n",
    "plt.subplot(1, 2, 2)\n",
    "plt.title('Crop Heights')\n",
    "plt.ylabel('Freq')\n",
    "plt.hist(heights[heights != 0], density = True)\n",
    "\n",
    "plt.show()"
   ]
  },
  {
   "cell_type": "markdown",
   "metadata": {},
   "source": [
    "Which illustrates much more clearly the distribution of the actual sprouted trees in addition to the portion that is part of the spike at 0."
   ]
  },
  {
   "cell_type": "markdown",
   "metadata": {},
   "source": [
    "## Expectation Values and Variance\n",
    "So far we have just examined the distributions associated with random variables, but what other characteristic properties do they have?  Since we know that a random variable can take on many different values, it seems reasonable to take a look at the *average*, or *expected value*, of $X$ denoted $E[X]$.  If you were given the list `[1, 2, 3, 4, 5]` and asked to compute the average, you would simply add all the values up and divide by the total yielding"
   ]
  },
  {
   "cell_type": "code",
   "execution_count": 15,
   "metadata": {},
   "outputs": [
    {
     "name": "stdout",
     "output_type": "stream",
     "text": [
      "Average: 3.0\n"
     ]
    }
   ],
   "source": [
    "X = [1, 2, 3, 4, 5]\n",
    "print('Average: ' + str(sum(X)/len(X)))"
   ]
  },
  {
   "cell_type": "markdown",
   "metadata": {},
   "source": [
    "We can easily extend this concept to any discrete $PMF$ stated mathematically (note this isn't very rigorous!)\n",
    "\n",
    "$$ \\operatorname{E}[X] = \\sum_{i} x_i p_i = x_1p_1 + x_2p_2 + \\cdots + x_kp_k$$\n",
    "\n",
    "where each $x_i$ is an outcome with associated probability $p_i$.  This again extends very easily to the continuous case by simply changing the summation to an integral (eliminating the mathematical rigor once more)\n",
    "\n",
    "$$\\operatorname{E}[X] = \\int x f(x)\\, dx$$\n",
    "\n",
    "where $f(x)$ is the $PDF$ of random variable $X$.  And even more generally, a *function* of a random variable can have an associated expectation value, namely\n",
    "\n",
    "$$\\operatorname{E}[g(X)] = \\int g(x) f(x)\\, dx$$\n",
    "\n",
    "And this same logic can be applied to discrete variables as well.\n",
    "\n",
    "Say we also wanted to have some information about the \"range\" or \"spread\" of our random variable.  A naive way may be to just subtract the smallest from the largest giving us the range of values $X$ is spread over.  This method, however, gives us no information about the \"clustering\" in our data.  Instead, we can compute the variance found by\n",
    "\n",
    "$$\\operatorname{Var}(X) = \\sum_{i=1}^n p_i\\cdot(x_i - \\mu)^2$$\n",
    "\n",
    "or in the continuous case\n",
    "\n",
    "\\begin{align}\n",
    "   \\operatorname{Var}(X) = \\sigma^2 &= \\int (x-\\mu)^2 f(x) \\, dx \\\\\n",
    "     &= \\int x^2f(x)\\,dx -2\\mu\\int xf(x)\\,dx + \\int \\mu^2 f(x)\\,dx \\\\\n",
    "     &= \\int x^2 f(x)\\,dx - 2\\mu^2 + \\mu^2 \\\\\n",
    "     &= \\int x^2 f(x)\\,dx - \\mu^2\n",
    " \\end{align}\n",
    "\n",
    "where $\\mu$ is the mean or average.  If you take a close look at the final line in the continuous case, you'll notice that we can actually rewrite this as\n",
    "\n",
    "$$\\begin{align} \\int x^2 f(x)\\,dx - \\mu^2 =\n",
    "&= \\operatorname{E}\\left[(X - \\operatorname{E}[X])^2\\right] \\\\\n",
    "&= \\operatorname{E}\\left[X^2 - 2X\\operatorname{E}[X] + \\operatorname{E}[X]^2\\right] \\\\\n",
    "&= \\operatorname{E}\\left[X^2\\right] - 2\\operatorname{E}[X]\\operatorname{E}[X] + \\operatorname{E}[X]^2 \\\\\n",
    "&= \\operatorname{E}\\left[X^2 \\right] - \\operatorname{E}[X]^2\n",
    "\\end{align}$$\n",
    "\n",
    "where we can see that we can write the variance as the expectation value as the square of the difference of each outcome from the mean which turns out is the same as taking the difference between $E[X^2]$ and $E[X]^2$.  This is a very handly relation to remember as it comes up *very* frequently in statistics.  And lastly, instead of looking at variance, you will frequently examine the *standard deviation* which is just the square root of the variance.\n",
    "\n",
    "$$\\sigma_x = \\sqrt{Var[X]}$$\n",
    "\n",
    "The standard deviation can be thought of as typically how far a value of the random variable is from the mean or the spread of the variable -- the larger the variance, the less clustering about the mean."
   ]
  },
  {
   "cell_type": "markdown",
   "metadata": {
    "collapsed": true
   },
   "source": [
    "**Compute theoretical mean and variance for a Bernoulli Random Variable with p = 0.5, as well as a Uniform Distribution on the interval [0, 1].  Then generate some random data, computing the same quantities.  Comment on your results.**"
   ]
  },
  {
   "cell_type": "code",
   "execution_count": 16,
   "metadata": {},
   "outputs": [
    {
     "name": "stdout",
     "output_type": "stream",
     "text": [
      "Mean Bernoulli: 0.4936\n",
      "Variance Bernoulli: 0.24995904\n",
      "Mean Uniform: 0.495239621185434\n",
      "Variance Uniform: 0.08485000265075969\n"
     ]
    }
   ],
   "source": [
    "# Generate random data\n",
    "np.random.seed(0)\n",
    "X_b = np.random.binomial(n = 1, p = 0.5, size = 10000)\n",
    "X_u = np.random.rand(10000)\n",
    "\n",
    "# Compute mean and variance\n",
    "print('Mean Bernoulli: ' + str(X_b.mean()))\n",
    "print('Variance Bernoulli: ' + str(X_b.var()))\n",
    "print('Mean Uniform: ' + str(X_u.mean()))\n",
    "print('Variance Uniform: ' + str(X_u.var()))"
   ]
  },
  {
   "cell_type": "markdown",
   "metadata": {},
   "source": [
    "## Conditional Probability\n",
    "An important topic to touch on here is that of *Conditional Probability* which has widespread application in Data Science in the context of Bayesian Statistics which we will cover later.  So far we have only considered on an independent event, a roll of a die for example.  Clearly, if we were to roll two dice, then we could still say that each roll was independent since each roll does not affect the outcome of the other.  What if, however, we considered the sum of both dice $D1 + D2$?  That is, what could we say about the probability of the state of $D1$ given the sum of $D1$ and $D2$ is $4$?  With some quick thought, we immediately know that $D2$ cannot be more than $3$.  This means, in short, that knowledge of the state of one random variable ($D1 + D2$) gives us some information regarding the state of our independent variables ($D1$ and $D2$).\n",
    "\n",
    "To elaborate on this, consider the following table representing all possible outcomes of the roll of two dice.\n",
    "\n",
    "<table border=\"1\" class=\"dataframe\">  <thead>    <tr style=\"text-align: right;\">      <th></th>      <th>1</th>      <th>2</th>      <th>3</th>      <th>4</th>      <th>5</th>      <th>6</th>    </tr>  </thead>  <tbody>    <tr>      <th>1</th>      <td>2</td>      <td>3</td>      <td>4</td>      <td>5</td>      <td>6</td>      <td>7</td>    </tr>    <tr>      <th>2</th>      <td>3</td>      <td>4</td>      <td>5</td>      <td>6</td>      <td>7</td>      <td>8</td>    </tr>    <tr>      <th>3</th>      <td>4</td>      <td>5</td>      <td>6</td>      <td>7</td>      <td>8</td>      <td>9</td>    </tr>    <tr>      <th>4</th>      <td>5</td>      <td>6</td>      <td>7</td>      <td>8</td>      <td>9</td>      <td>10</td>    </tr>    <tr>      <th>5</th>      <td>6</td>      <td>7</td>      <td>8</td>      <td>9</td>      <td>10</td>      <td>11</td>    </tr>    <tr>      <th>6</th>      <td>7</td>      <td>8</td>      <td>9</td>      <td>10</td>      <td>11</td>      <td>12</td>    </tr>  </tbody></table>\n",
    "\n",
    "Where $D1$ is on the horizontal and $D2$ on the vertical.  If we know that sum $D1 + D2$ is less than 4, then only the following possibilities for $D1$ and $D2$ are allowed.\n",
    "\n",
    "<table border=\"1\" class=\"dataframe\">  <thead>    <tr style=\"text-align: right;\">      <th></th>      <th>1</th>      <th>2</th>      <th>3</th>      <th>4</th>      <th>5</th>      <th>6</th>    </tr>  </thead>  <tbody>    <tr>      <th>1</th>      <td>***2***</td>      <td>***3***</td>      <td>***4***</td>      <td>5</td>      <td>6</td>      <td>7</td>    </tr>    <tr>      <th>***2***</th>      <td>***3***</td>      <td>***4***</td>      <td>5</td>      <td>6</td>      <td>7</td>      <td>8</td>    </tr>    <tr>      <th>***3***</th>      <td>***4***</td>      <td>5</td>      <td>6</td>      <td>7</td>      <td>8</td>      <td>9</td>    </tr>    <tr>      <th>4</th>      <td>5</td>      <td>6</td>      <td>7</td>      <td>8</td>      <td>9</td>      <td>10</td>    </tr>    <tr>      <th>5</th>      <td>6</td>      <td>7</td>      <td>8</td>      <td>9</td>      <td>10</td>      <td>11</td>    </tr>    <tr>      <th>6</th>      <td>7</td>      <td>8</td>      <td>9</td>      <td>10</td>      <td>11</td>      <td>12</td>    </tr>  </tbody></table>\n",
    "\n",
    "Immediately we know that only 6 combinations of the total 36 are possible, thus $P(D1 + D2 \\le 4) = \\frac{1}{6}$.  But what if we wanted to ask the question, what is the probability of $D1 = 1$ given that $D1 + D2 = 4$?  Examining the table we find that\n",
    "\n",
    "<table border=\"1\" class=\"dataframe\">  <thead>    <tr style=\"text-align: right;\">      <th></th>      <th>1</th>      <th>2</th>      <th>3</th>      <th>4</th>      <th>5</th>      <th>6</th>    </tr>  </thead>  <tbody>    <tr>      <th>1</th>      <td>***2***</td>      <td>*3*</td>      <td>*4*</td>      <td>5</td>      <td>6</td>      <td>7</td>    </tr>    <tr>      <th>***2***</th>      <td>***3***</td>      <td>*4*</td>      <td>5</td>      <td>6</td>      <td>7</td>      <td>8</td>    </tr>    <tr>      <th>***3***</th>      <td>***4***</td>      <td>5</td>      <td>6</td>      <td>7</td>      <td>8</td>      <td>9</td>    </tr>    <tr>      <th>4</th>      <td>5</td>      <td>6</td>      <td>7</td>      <td>8</td>      <td>9</td>      <td>10</td>    </tr>    <tr>      <th>5</th>      <td>6</td>      <td>7</td>      <td>8</td>      <td>9</td>      <td>10</td>      <td>11</td>    </tr>    <tr>      <th>6</th>      <td>7</td>      <td>8</td>      <td>9</td>      <td>10</td>      <td>11</td>      <td>12</td>    </tr>  </tbody></table>\n",
    "\n",
    "And only 3 combinations are allowed, but remember that we are considering only a small subset of all the possibilities, namely, the subset we considered when asking $P(D1 + D2 \\le 4)$ in which there were only 6.  Therefore, $P(D1 + D2 \\le 4\\mid D1 = 1) = \\frac{3}{6} = \\frac{1}{2}$.\n",
    "\n",
    "The last example is the heart of conditional probability.  With a little thought, you can see that the mathematical relationship defining it must be\n",
    "\n",
    "$$P(A|B)=\\tfrac{P(A \\cap B)}{P(B)}$$\n",
    "\n",
    "Where $A \\cap B$ is the intersection of $A$ and $B$.  In our example above, $A$ is where $D1 = 1$ and $B$ are all rolls which add to 4.  Thus\n",
    "\n",
    "$$P(A|B)=\\tfrac{P(A \\cap B)}{P(B)} = \\frac{3/36}{6/36} = \\frac{1}{2}$$\n",
    "\n",
    "Which is consistent with what is in the table."
   ]
  },
  {
   "cell_type": "markdown",
   "metadata": {},
   "source": [
    "**Determine the probability that $D2$ is less than or equal to 4, given that $D1 + D2$ is less than or equal to 10.  In other words, compute $P(D2 \\le 4\\mid D1 + D2 \\le 10)$**"
   ]
  },
  {
   "cell_type": "code",
   "execution_count": 17,
   "metadata": {},
   "outputs": [
    {
     "data": {
      "text/plain": [
       "0.7272727272727273"
      ]
     },
     "execution_count": 17,
     "metadata": {},
     "output_type": "execute_result"
    }
   ],
   "source": [
    "# P(D2≤4∣D1+D2≤10)\n",
    "# P(D2≤4∩D1+D2≤10)/P(D1+D2≤10)\n",
    "24/33"
   ]
  },
  {
   "cell_type": "markdown",
   "metadata": {},
   "source": [
    "## Distribution Tails\n",
    "Before jumping into many of the common distributions you'll encounter as a Data Scientist, there is one more topic to touch on, namely, distribution tails.\n",
    "\n",
    "A distribution's tail refers to its extreme high and low ends.  Many distributions, such as the Normal, or Bell Curve, die out, or collapse to 0, on the high and low ends, whereas others are *heavy-tailed* and tend to remain well above zero until very very far out.  Both phenomena appear the real world and it is very important to take tail behavior into consideration when constructing a model.  Human height, for example, does not exhibit a heavy tail as you are not going to find any 15-foot people, but wealth distribution on the other hand typically does require a heavy tail as there are some people who are in the billionaire club, placing them *significantly* above the mean.\n",
    "\n",
    "To illustrate this, consider the PDF of a Gaussian distribution which is *not* heavy tailed."
   ]
  },
  {
   "cell_type": "code",
   "execution_count": 18,
   "metadata": {},
   "outputs": [
    {
     "data": {
      "image/png": "[encoded data removed]",
      "text/plain": [
       "<Figure size 432x288 with 1 Axes>"
      ]
     },
     "metadata": {},
     "output_type": "display_data"
    }
   ],
   "source": [
    "np.random.seed(0)\n",
    "X_norm = np.random.randn(1000000)\n",
    "\n",
    "plt.hist(X_norm, density = True, bins = 1000)\n",
    "plt.title('Standard Normal\\nmean = 0, std = 1')\n",
    "plt.xlabel('X')\n",
    "plt.ylabel('Freq')\n",
    "plt.show()"
   ]
  },
  {
   "cell_type": "markdown",
   "metadata": {},
   "source": [
    "As can be seen, this doesn't exhibit the heavy tail discussed above.  Now let's take an average of the first `n` samples and plot them."
   ]
  },
  {
   "cell_type": "code",
   "execution_count": 19,
   "metadata": {},
   "outputs": [
    {
     "data": {
      "image/png": "[encoded data removed]",
      "text/plain": [
       "<Figure size 432x288 with 1 Axes>"
      ]
     },
     "metadata": {},
     "output_type": "display_data"
    }
   ],
   "source": [
    "means = [X_norm[:n].mean() for n in range(1, 500)]\n",
    "\n",
    "plt.plot(means)\n",
    "plt.title('Mean of First n\\nStandard Normal')\n",
    "plt.xlabel('n')\n",
    "plt.ylabel('Mean')\n",
    "plt.show()"
   ]
  },
  {
   "cell_type": "markdown",
   "metadata": {},
   "source": [
    "As can be seen, the average quickly converges to a value of about 0 after around 200 samples.  Now let's take a look at a similar, but every different distribution called the Student's t-distribution."
   ]
  },
  {
   "cell_type": "code",
   "execution_count": 20,
   "metadata": {},
   "outputs": [
    {
     "data": {
      "image/png": "[encoded data removed]",
      "text/plain": [
       "<Figure size 432x288 with 1 Axes>"
      ]
     },
     "metadata": {},
     "output_type": "display_data"
    }
   ],
   "source": [
    "np.random.seed(0)\n",
    "X_t = np.random.standard_t(df = 5, size = 10000)\n",
    "\n",
    "plt.hist(X_t, density = True, bins = 500)\n",
    "plt.title('Standard Student\\'s t\\nmean = 0, std = 1')\n",
    "plt.xlabel('X')\n",
    "plt.ylabel('Freq')\n",
    "plt.show()"
   ]
  },
  {
   "cell_type": "markdown",
   "metadata": {},
   "source": [
    "The Student's t-distribution appears looks somewhat similar to the normal distribution, but when plotted on the same scale, it is narrower, indicating some outliers on the tail ends.  Now let's see what happens when we plot the means as before."
   ]
  },
  {
   "cell_type": "code",
   "execution_count": 21,
   "metadata": {},
   "outputs": [
    {
     "data": {
      "image/png": "[encoded data removed]",
      "text/plain": [
       "<Figure size 432x288 with 1 Axes>"
      ]
     },
     "metadata": {},
     "output_type": "display_data"
    }
   ],
   "source": [
    "means = [X_t[:n].mean() for n in range(1, 500)]\n",
    "\n",
    "plt.plot(means)\n",
    "plt.title('Mean of First n\\nStandard Student\\'s t, df = 5')\n",
    "plt.xlabel('n')\n",
    "plt.ylabel('Mean')\n",
    "plt.show()"
   ]
  },
  {
   "cell_type": "markdown",
   "metadata": {},
   "source": [
    "As can be seen, although the distribution looks very similar to the normal, the heavy tail means that there are a large number of outliers which contribute every once in awhile to mean, causing it to fluctuate quite a bit, indicating that many statistics (such as the mean) are likely to be affected by this heavy tail behavior.  In our two cases here, for example, the means of the first 500 values are "
   ]
  },
  {
   "cell_type": "code",
   "execution_count": 22,
   "metadata": {},
   "outputs": [
    {
     "name": "stdout",
     "output_type": "stream",
     "text": [
      "Mean Normal: -0.025354439332433826\n",
      "Mean Student's t: -0.05102243157364153\n"
     ]
    }
   ],
   "source": [
    "print('Mean Normal: ' + str(X_norm[:500].mean()))\n",
    "print('Mean Student\\'s t: ' + str(X_t[:500].mean()))"
   ]
  },
  {
   "cell_type": "markdown",
   "metadata": {},
   "source": [
    "When the distributions were constructed, their means were set to be 0, and as can be seen, the Student's t-distribution is a good deal further away from that mean after 500 samples.  In such cases, it is often better to look at the *median* for heavy-tailed distributions since the *median* is a bit more robust to outliers."
   ]
  },
  {
   "cell_type": "markdown",
   "metadata": {},
   "source": [
    "**What are some examples of phenomena which you expect would be heavy-tailed?  What about ones which are not?**"
   ]
  },
  {
   "cell_type": "code",
   "execution_count": null,
   "metadata": {},
   "outputs": [],
   "source": []
  },
  {
   "cell_type": "markdown",
   "metadata": {},
   "source": [
    "## Probability Distributions\n",
    "Now that we have established a general conceptual framework for the language and methods of probability theory, we can get to the most important topic of this notebook and show some common distributions you'll work with as a Data Scientist.  As we work through these, you should make effort to remember three things about each distribution:\n",
    "1. A particular phenomenon it is associated with.  Normal Distribution goes with height for example.\n",
    "1. The parameters that define the distribution.  A Normal Distribution is defined by mean and variance alone for example.\n",
    "1. Whether or not a distribution is heavy-tailed.  As stated before, the Normal Distribution is **not** heavy-tailed.\n",
    "\n",
    "There are of course many more distributions than we'll touch on here, but this should provide a general overview of some of the important ones."
   ]
  },
  {
   "cell_type": "markdown",
   "metadata": {},
   "source": [
    "### The Binomial Distribution\n",
    "Whether you realized it or not, we have in fact already worked with the Binomial Distribution when discussing Bernoulli Random Variables.  The only difference here is that the Binomial Distribution is generalized to incorporate many outcomes with $PMF$\n",
    "\n",
    "$$P(k;n,p) = P(X = k) = {n\\choose k}p^k(1-p)^{n-k}$$\n",
    "\n",
    "where parameters $n$, $p$, and $k$ are defined as follows\n",
    "- **n**: The number of trials\n",
    "- **p**: The probability of success (0.5 in a coin toss)\n",
    "- **k**: The number of successful outcomes\n",
    "\n",
    "and\n",
    "\n",
    "$$\\binom n k =\\frac{n!}{k!(n-k)!}$$\n",
    "\n",
    "is the [Binomial Coefficient](https://en.wikipedia.org/wiki/Binomial_coefficient) (hence the name) and is pronounced \"n choose k\".  Where\n",
    "\n",
    "$$x! = (x)(x-1)(x-2)\\dots(2)(1)$$\n",
    "\n",
    "and is pronounced \"x factorial\".  Also of note is the mean, $\\mu$, and variance, $\\sigma^2$, of the Binomial Distribution which we will simply state here, omitting the derivation.\n",
    "- $\\mu = np$\n",
    "- $\\sigma^2 = np(1-p)$\n",
    "\n",
    "We can sample from a Binomial and plot the results with the following."
   ]
  },
  {
   "cell_type": "code",
   "execution_count": 23,
   "metadata": {},
   "outputs": [
    {
     "data": {
      "image/png": "[encoded data removed]",
      "text/plain": [
       "<Figure size 432x288 with 1 Axes>"
      ]
     },
     "metadata": {},
     "output_type": "display_data"
    }
   ],
   "source": [
    "np.random.seed(0)\n",
    "X = np.random.binomial(n = 10, p = 0.5, size = 1000)\n",
    "\n",
    "plt.hist(X, density = True, bins = 10)\n",
    "plt.title('Binomial Distribution\\nn = 10, p = 0.5, samples = 1000')\n",
    "plt.xlabel('Number of Sucesses')\n",
    "plt.ylabel('Freq')\n",
    "plt.show()"
   ]
  },
  {
   "cell_type": "markdown",
   "metadata": {},
   "source": [
    "As we can see, the most frequent outcome after 1000 samples of the flip of 10 fair coins is 5 as expected from the mean above."
   ]
  },
  {
   "cell_type": "markdown",
   "metadata": {},
   "source": [
    "**Create the same PMF as above but for this time using the roll of a single die where success is having the outcome be a 1 out of 6 rolls.  Then repeat the same for the sum of roll of two dice where success is the outcome being 6 out of 12 rolls.**"
   ]
  },
  {
   "cell_type": "markdown",
   "metadata": {},
   "source": [
    "**Answer the following:**\n",
    "1. **What is a phenomenon associated with the Binomial Distribution?**\n",
    "1. **What are the parameters?**\n",
    "1. **Is it heavy-tailed?**"
   ]
  },
  {
   "cell_type": "code",
   "execution_count": null,
   "metadata": {},
   "outputs": [],
   "source": []
  },
  {
   "cell_type": "markdown",
   "metadata": {},
   "source": [
    "### The Poisson Distribution\n",
    "Next up is the Poisson Distribution which is used to measure how many events occur in a given amount of time.  In particular, the Poisson Distribution is good for modelling phenomenon in which many events are possible, but only a small number will occur.  The number of visitors to a particular website is a good example since, from a pool of millions of internet users, only a small fraction will visit a website on a given day.\n",
    "\n",
    "To build some intuition about how it is derived, consider a Binomial Distribution in which $n$ is *very* large and $p$ is *very* small so that $np$ is equal to some constant, namely\n",
    "\n",
    "$$np = \\lambda$$\n",
    "\n",
    "In the limit of large $n$ and small $p$, the Binomial converges to a Poisson with $PMF$ given by\n",
    "\n",
    "$$P(k) = e^{-\\lambda}\\frac{\\lambda^k}{k!}$$\n",
    "\n",
    "where \n",
    "- $\\lambda$ is the event parameter\n",
    "- k is the number of events in the time interval.\n",
    "\n",
    "The Poisson also has mean and variance defined by\n",
    "- $\\mu = \\lambda$\n",
    "- $\\sigma^2 = \\lambda$\n",
    "\n",
    "We can sample from a Poisson and plot the results with the following."
   ]
  },
  {
   "cell_type": "code",
   "execution_count": 24,
   "metadata": {},
   "outputs": [
    {
     "data": {
      "image/png": "[encoded data removed]",
      "text/plain": [
       "<Figure size 432x288 with 1 Axes>"
      ]
     },
     "metadata": {},
     "output_type": "display_data"
    }
   ],
   "source": [
    "np.random.seed(0)\n",
    "X = np.random.poisson(lam=1.0, size=1000000)\n",
    "\n",
    "plt.hist(X, density = True)\n",
    "plt.title('Poisson Distribution\\n lambda = 1.0, samples = 1000')\n",
    "plt.xlabel('Number of Sucesses')\n",
    "plt.ylabel('Freq')\n",
    "plt.show()"
   ]
  },
  {
   "cell_type": "markdown",
   "metadata": {},
   "source": [
    "As we can see, with an event rate of 1, the most likely number of occurences is 1 with about 0.65 and then 2 at a probability of about 0.2."
   ]
  },
  {
   "cell_type": "markdown",
   "metadata": {},
   "source": [
    "Furthermore, it is important to keep the following assumptions in mind when using the Poisson\n",
    "\n",
    "- $k$ is the number of times an event occurs in an interval and $k$ can take values 0, 1, 2, ….\n",
    "- The occurrence of one event does not affect the probability that a second event will occur. That is, events occur independently.\n",
    "- The rate at which events occur is constant. The rate cannot be higher in some intervals and lower in other intervals.\n",
    "- Two events cannot occur at exactly the same instant; instead, at each very small sub-interval exactly one event either occurs or does not occur.\n",
    "- The probability of an event in a small sub-interval is proportional to the length of the sub-interval."
   ]
  },
  {
   "cell_type": "markdown",
   "metadata": {},
   "source": [
    "**Suppose you have stats on a basketball and find that the average score per team per game is about 100.  Using a Poisson distribution, compute the probability of scoring 35 points or more in a given quarter.**"
   ]
  },
  {
   "cell_type": "markdown",
   "metadata": {},
   "source": [
    "**Answer the following:**\n",
    "1. **What is a phenomenon associated with the Poisson Distribution?**\n",
    "1. **What are the parameters?**\n",
    "1. **Is it heavy-tailed?**"
   ]
  },
  {
   "cell_type": "code",
   "execution_count": null,
   "metadata": {},
   "outputs": [],
   "source": []
  },
  {
   "cell_type": "markdown",
   "metadata": {
    "collapsed": true
   },
   "source": [
    "### The Normal Distribution\n",
    "Perhaps the most common distribution you'll encounter is the Normal, or Gaussian, Distribution.  This iconic bell-shaped curve pops up in virtually all mathematical disciplines and for a very good reason.\n",
    "\n",
    "It turns out that averaging samples from *any* distribution, with finite mean and variance, eventually converges to a normal distribution.  This is true for all the distributions we have seen thus far and virtually all you will encounter.  This is known as *The Central Limit Theorem*, stated mathematically:\n",
    "\n",
    "$$\\sqrt{n}\\left(\\frac{1}{n}\\sum_{i=1}^n X_i - \\mu \\right) \\xrightarrow\\ N\\left(0,\\sigma^2\\right)$$\n",
    "\n",
    "This concept is central to probability theory and statistics so it is important to keep it in mind.\n",
    "\n",
    "In terms of properties, the Normal Distribution defined by mean and variance alone and exhibits clustering about the mean with light tails, with $PDF$\n",
    "\n",
    "$$f(x\\;|\\;\\mu ,\\sigma ^{2})={\\frac {1}{\\sqrt {2\\pi \\sigma ^{2}}}}\\;e^{-{\\frac {(x-\\mu )^{2}}{2\\sigma ^{2}}}}$$\n",
    "\n",
    "where $\\mu$ is the mean and $\\sigma^2$ is the variance.  Taking the shape"
   ]
  },
  {
   "cell_type": "code",
   "execution_count": 25,
   "metadata": {},
   "outputs": [
    {
     "data": {
      "image/png": "[encoded data removed]",
      "text/plain": [
       "<Figure size 432x288 with 1 Axes>"
      ]
     },
     "metadata": {},
     "output_type": "display_data"
    }
   ],
   "source": [
    "from scipy.stats import norm\n",
    "\n",
    "X = np.linspace(norm.ppf(0.01), norm.ppf(0.99), 100)\n",
    "rv = norm()\n",
    "plt.plot(X, rv.pdf(X))\n",
    "plt.title('Standard Normal PDF\\nMean = 0, Variance = 1')\n",
    "plt.xlabel('X')\n",
    "plt.ylabel('f(X)')\n",
    "plt.show()"
   ]
  },
  {
   "cell_type": "markdown",
   "metadata": {},
   "source": [
    "**Draw random samples from a normal distribution with mean 100 and standard deviation 25, plot the histogram and answer the following.**\n",
    "1. **Compute the probability of $X$ being less than or equal to one standard deviation to the left of the mean.**\n",
    "1. **Compute the probability of $X$ being greater than or equal to one standard deviation to the right of the mean.**\n",
    "1. **Compute the probability of $X$ being greater than one standard deviation from the mean on the left and less than one standard deviation from the mean on the right.**"
   ]
  },
  {
   "cell_type": "code",
   "execution_count": 26,
   "metadata": {},
   "outputs": [
    {
     "data": {
      "image/png": "[encoded data removed]",
      "text/plain": [
       "<Figure size 432x288 with 1 Axes>"
      ]
     },
     "metadata": {},
     "output_type": "display_data"
    }
   ],
   "source": [
    "# Compute the probability of $X$ being less than or \n",
    "# equal to one standard deviation to the left of the mean.\n",
    "\n",
    "np.random.seed(0)\n",
    "X = np.random.normal(loc = 100, scale = 25, size = 10000)\n",
    "\n",
    "# Plot\n",
    "# plt.hist(X, density = True, bins = 100)\n",
    "plt.hist(X, density = False, bins = 100)\n",
    "plt.title('Normal Distribution\\n Mean = 100, Variance = 25, samples = 10000')\n",
    "plt.xlabel('X')\n",
    "plt.ylabel('Freq')\n",
    "plt.show()\n"
   ]
  },
  {
   "cell_type": "markdown",
   "metadata": {},
   "source": [
    "**Demonstrate the *Central Limit Theorem* using a Bernoulli Random Variable.**"
   ]
  },
  {
   "cell_type": "code",
   "execution_count": null,
   "metadata": {},
   "outputs": [],
   "source": []
  },
  {
   "cell_type": "markdown",
   "metadata": {},
   "source": [
    "**Answer the following:**\n",
    "1. **What is a phenomenon associated with the Normal Distribution?**\n",
    "1. **What are the parameters?**\n",
    "1. **Is it heavy-tailed?**"
   ]
  },
  {
   "cell_type": "code",
   "execution_count": null,
   "metadata": {},
   "outputs": [],
   "source": []
  },
  {
   "cell_type": "markdown",
   "metadata": {},
   "source": [
    "### The Exponential Distribution\n",
    "Exponential Distributions appear in all sorts of contexts in nature, most frequently associated with time events.  In particular, it represents the probability of an event occurring after time interval $x$.  Consider, for example, customers enter a store.  At any time, there is a fixed probability of someone entering.  Therefore, as time passes, it becomes increasingly unlikely that someone has not entered the store in that time interval, at a constantly decaying rate.\n",
    "\n",
    "The $PDF$ of the exponential distribution is given by\n",
    "\n",
    "$$f(x;\\lambda) = \\begin{cases}\n",
    "\\lambda e^{-\\lambda x} & x \\ge 0, \\\\\n",
    "0 & x < 0.\n",
    "\\end{cases}$$\n",
    "\n",
    "where $\\lambda$ is the average time between events and has the shape"
   ]
  },
  {
   "cell_type": "code",
   "execution_count": 27,
   "metadata": {
    "scrolled": true
   },
   "outputs": [
    {
     "data": {
      "image/png": "[encoded data removed]",
      "text/plain": [
       "<Figure size 432x288 with 1 Axes>"
      ]
     },
     "metadata": {},
     "output_type": "display_data"
    }
   ],
   "source": [
    "from scipy.stats import expon\n",
    "X = np.linspace(expon.ppf(0.01), expon.ppf(0.99), 100)\n",
    "rv = expon()\n",
    "plt.plot(X, rv.pdf(X))\n",
    "plt.title('Standard Exponential PDF\\nMean = 1')\n",
    "plt.xlabel('X')\n",
    "plt.ylabel('f(X)')\n",
    "plt.show()"
   ]
  },
  {
   "cell_type": "markdown",
   "metadata": {},
   "source": [
    "It is also worth noting that the exponential distribution is *memoryless*, meaning that each event is assumed to be completely independent of the previous and that the probability between events *always* follows the same exponential curve."
   ]
  },
  {
   "cell_type": "markdown",
   "metadata": {},
   "source": [
    "**Draw random samples from an Exponential Distribution, construct a histogram, and compute their mean and variance.  Comment on your results.**"
   ]
  },
  {
   "cell_type": "code",
   "execution_count": null,
   "metadata": {},
   "outputs": [],
   "source": []
  },
  {
   "cell_type": "markdown",
   "metadata": {},
   "source": [
    "**Suppose at a call center, there are approximately 1000 calls per full working day of 8 hours.  What is the probability that a call will not be received in a 5 minute time interval?  State your assumptions.**"
   ]
  },
  {
   "cell_type": "markdown",
   "metadata": {},
   "source": [
    "**Answer the following:**\n",
    "1. **What is a phenomenon associated with the Exponential Distribution?**\n",
    "1. **What are the parameters?**\n",
    "1. **Is it heavy-tailed?**"
   ]
  },
  {
   "cell_type": "code",
   "execution_count": null,
   "metadata": {},
   "outputs": [],
   "source": []
  },
  {
   "cell_type": "markdown",
   "metadata": {},
   "source": [
    "### The Log-Normal Distribution\n",
    "A useful heavy-tailed distribution is the Log-Normal, furthermore, it has finite mean and variance, making it ideal for many real-world phenomena.  In short, a random variable $X$ is Log-Normally distributed if $ln(X)$ is Normally distributed.  Or in reverse, sample a Normal Distribution and then $e^x$ is Log-Normally distributed.\n",
    "\n",
    "The $PDF$ is given by \n",
    "\n",
    "$$f(x) = \\displaystyle {\\frac {1}{x\\sigma {\\sqrt {2\\pi }}}}\\ e^{-{\\frac {\\left(\\ln x-\\mu \\right)^{2}}{2\\sigma ^{2}}}}$$\n",
    "\n",
    "where the parameters are defined as the Normal Distribution from which it is derived.  When actually making a Log-Normal distribution, you will make use of the shape parameter which is the actual variance of the Log-Normal which looks like below."
   ]
  },
  {
   "cell_type": "code",
   "execution_count": 28,
   "metadata": {},
   "outputs": [
    {
     "data": {
      "image/png": "[encoded data removed]",
      "text/plain": [
       "<Figure size 432x288 with 1 Axes>"
      ]
     },
     "metadata": {},
     "output_type": "display_data"
    }
   ],
   "source": [
    "from scipy.stats import lognorm\n",
    "X = np.linspace(lognorm.ppf(0.01, s = 1), lognorm.ppf(0.99, s = 1), 100)\n",
    "rv = lognorm(s = 1)\n",
    "plt.plot(X, rv.pdf(X))\n",
    "plt.title('Standard Log-Normal PDF\\nMean = 0, Variance = 1')\n",
    "plt.xlabel('X')\n",
    "plt.ylabel('f(X)')\n",
    "plt.show()"
   ]
  },
  {
   "cell_type": "markdown",
   "metadata": {},
   "source": [
    "**Generate some Log-Normal data from a Normal Distribution and plot the histogram**."
   ]
  },
  {
   "cell_type": "markdown",
   "metadata": {},
   "source": [
    "**Answer the following:**\n",
    "1. **What is a phenomenon associated with the Exponential Distribution?**\n",
    "1. **What are the parameters?**\n",
    "1. **Is it heavy-tailed?**"
   ]
  },
  {
   "cell_type": "code",
   "execution_count": null,
   "metadata": {},
   "outputs": [],
   "source": []
  }
 ],
 "metadata": {
  "kernelspec": {
   "display_name": "Python 3",
   "language": "python",
   "name": "python3"
  },
  "language_info": {
   "codemirror_mode": {
    "name": "ipython",
    "version": 3
   },
   "file_extension": ".py",
   "mimetype": "text/x-python",
   "name": "python",
   "nbconvert_exporter": "python",
   "pygments_lexer": "ipython3",
   "version": "3.6.5"
  }
 },
 "nbformat": 4,
 "nbformat_minor": 2
}
