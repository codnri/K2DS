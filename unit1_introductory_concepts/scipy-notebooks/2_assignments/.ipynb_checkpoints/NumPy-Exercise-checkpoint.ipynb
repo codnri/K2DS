{
 "cells": [
  {
   "cell_type": "markdown",
   "metadata": {},
   "source": [
    "# NumPy Exercise\n",
    "NumPy is the fundamental package for scientific computing in Python. It is a Python library that provides a multidimensional array object, various derived objects (such as masked arrays and matrices), and an assortment of routines for fast operations on arrays, including mathematical, logical, shape manipulation, sorting, selecting, I/O, discrete Fourier transforms, basic linear algebra, basic statistical operations, random simulation and much more.\n",
    "\n",
    "At the core of the NumPy package, is the ndarray object. This encapsulates n-dimensional arrays of homogeneous data types, with many operations being performed in compiled code for performance. There are several important differences between NumPy arrays and the standard Python sequences:\n",
    "\n",
    "- NumPy arrays have a fixed size at creation, unlike Python lists (which can grow dynamically). Changing the size of an ndarray will create a new array and delete the original.\n",
    "- The elements in a NumPy array are all required to be of the same data type, and thus will be the same size in memory. The exception: one can have arrays of (Python, including NumPy) objects, thereby allowing for arrays of different sized elements.\n",
    "- NumPy arrays facilitate advanced mathematical and other types of operations on large numbers of data. Typically, such operations are executed more efficiently and with less code than is possible using Python’s built-in sequences.\n",
    "- A growing plethora of scientific and mathematical Python-based packages are using NumPy arrays; though these typically support Python-sequence input, they convert such input to NumPy arrays prior to processing, and they often output NumPy arrays. In other words, in order to efficiently use much (perhaps even most) of today’s scientific/mathematical Python-based software, just knowing how to use Python’s built-in sequence types is insufficient - one also needs to know how to use NumPy arrays.\n",
    "\n",
    "Using only NumPy, perform the following.\n",
    "\n",
    "1. Create an array of the form $b = \\begin{bmatrix} 1 \\\\ 2 \\end{bmatrix}$\n",
    "1. Create a 2x2 array of the form $X = \\begin{bmatrix} 1 & 2 \\\\ 3 & 4 \\end{bmatrix}$\n",
    "1. Multiply the two arrays element wise, then using matrix multiplication, and finally the inner product of $b \\bullet b$.\n",
    "1. For each of your results in part (3), print the shape and data type.\n",
    "1. Reshape (or flatten), the array $X$ such that it consists of only 1 row.\n",
    "1. Create an array of the integers 1 to 10, inclusive, setting the datatype to float.\n",
    "1. Create a 10x10 identity matrix using the built in numpy function.\n",
    "1. Create a 10x10 identity matrix using a for loop.\n",
    "1. Generate a set of random data, $X$, drawn from a normal distribution, consisting of 9 columns of 100 rows each, then attach a column of all ones, resulting in a 100x10 matrix for $X$.  Next generate a random array $\\beta$, drawn from a uniform distribution, of length 10.  Also make an array, $\\epsilon$ of length 100, drawn from a normal distribution.  Finally, compute a vector $\\vec{y}$ such that $\\vec{y} = X\\beta + \\epsilon$.  Be sure to set the random seed to 0 before drawing any random numbers.  All random numbers should be on the interval [0, 1).\n",
    "1. Using the vector $\\vec{y}$ computed in part 9, create a vector $\\vec{c}$ containing the labels \"positive\" or \"negative\" for each value in $\\vec{y}$, treating 0 as positive.  **Bonus:** Do it with a one-liner.\n",
    "1. Using the classes generated in part 10, separate the matrix X into two smaller matricies, $X_p$, $X_n$, containing only rows which map to positive or negative values respectively.\n",
    "1. Generate a meshgrid on the interval [0, 1], of shape 100x100.  Then compute the Euclidean Distance given by $d = \\sqrt{x^2 + y^2}$ from the origin for each unit, $(x_n, y_n)$, in the grid.  **Bonus:** Do it with a one-liner.\n",
    "1. Generate a set of 100 values, $p$,  on the interval $[0, 2\\pi]$ and two vectors, $\\vec{x}, \\vec{y}$ such that $\\vec{x} = cos(p)$ and $\\vec{y} = sin(p)$.  Then compute the vector $\\vec{r} = \\sqrt{x^2 + y^2}$.  Comment on your results.\n",
    "1. Generate two lists, `a`, `b`, consisting of 10 randomly drawn values from a normal and uniform distribution respectively.  Compute the mean and median of each.\n",
    "1. Using `a` from part 14, create a new list `c` by calling `a = c`.  Now change the shape of `c`.  Comment on your results.\n",
    "1. How would you solve the problem that appeared in part 15?"
   ]
  },
  {
   "cell_type": "code",
   "execution_count": 47,
   "metadata": {},
   "outputs": [
    {
     "name": "stdout",
     "output_type": "stream",
     "text": [
      "about X・b [ 5 11] <class 'numpy.ndarray'> (2,)\n",
      "flatten X [[1 2 3 4]]\n",
      "[[1. 0. 0. 0. 0. 0. 0. 0. 0. 0.]\n",
      " [0. 1. 0. 0. 0. 0. 0. 0. 0. 0.]\n",
      " [0. 0. 1. 0. 0. 0. 0. 0. 0. 0.]\n",
      " [0. 0. 0. 1. 0. 0. 0. 0. 0. 0.]\n",
      " [0. 0. 0. 0. 1. 0. 0. 0. 0. 0.]\n",
      " [0. 0. 0. 0. 0. 1. 0. 0. 0. 0.]\n",
      " [0. 0. 0. 0. 0. 0. 1. 0. 0. 0.]\n",
      " [0. 0. 0. 0. 0. 0. 0. 1. 0. 0.]\n",
      " [0. 0. 0. 0. 0. 0. 0. 0. 1. 0.]\n",
      " [0. 0. 0. 0. 0. 0. 0. 0. 0. 1.]]\n",
      "[[1, 0, 0, 0, 0, 0, 0, 0, 0, 0], [0, 1, 0, 0, 0, 0, 0, 0, 0, 0], [0, 0, 1, 0, 0, 0, 0, 0, 0, 0], [0, 0, 0, 1, 0, 0, 0, 0, 0, 0], [0, 0, 0, 0, 1, 0, 0, 0, 0, 0], [0, 0, 0, 0, 0, 1, 0, 0, 0, 0], [0, 0, 0, 0, 0, 0, 1, 0, 0, 0], [0, 0, 0, 0, 0, 0, 0, 1, 0, 0], [0, 0, 0, 0, 0, 0, 0, 0, 1, 0], [0, 0, 0, 0, 0, 0, 0, 0, 0, 1]]\n",
      "(100, 10)\n",
      "[3.052875   5.29176169 5.16666519 4.26948206 4.79905741 4.77220915\n",
      " 4.71823828 1.26576346 4.86446912 0.55598443 4.47679352 1.44925828\n",
      " 5.73900518 6.18226407 4.26561214 1.95644379 5.14428595 5.57477137\n",
      " 1.27570651 4.46923931 3.94731911 5.85245147 2.02917047 4.55980731\n",
      " 6.17671493 1.29194996 4.66370163 1.74169307 6.13874442 0.45244364\n",
      " 6.01213534 2.13180805 0.45410307 3.73735047 2.98774329 1.49630025\n",
      " 5.14762958 2.67637516 4.43327298 5.57288354 0.8023242  1.34914587\n",
      " 5.14730782 3.60632652 5.64820883 1.95562237 4.9138031  0.67190817\n",
      " 0.30787367 4.3592447  4.6339132  2.21248368 5.61564494 1.99673018\n",
      " 3.50674007 5.99041173 4.18960941 0.46252182 0.22284704 2.12631008\n",
      " 2.92228541 2.99289512 1.15625498 0.99165946 5.1837734  3.400923\n",
      " 4.07667181 1.44076629 5.91239221 2.9329091  3.43460008 2.58878493\n",
      " 5.05691913 3.71118246 1.01975952 4.83289883 0.36159866 4.46206056\n",
      " 3.04093262 3.90818028 0.28062563 3.71813343 0.53993763 4.96578675\n",
      " 1.51937602 1.83928683 1.35313876 2.65483003 2.46908903 0.42927989\n",
      " 1.1399747  5.26680229 2.42557598 3.7785442  1.43358343 1.71030195\n",
      " 1.78737834 1.71840317 2.99910347 3.04828039]\n"
     ]
    },
    {
     "data": {
      "text/plain": [
       "array([[1.        , 0.55462193, 0.44766752, ..., 0.17169798, 0.99382295,\n",
       "        0.99958404],\n",
       "       [1.30092064, 1.        , 0.94488133, ..., 0.8496321 , 1.29617845,\n",
       "        1.30060093],\n",
       "       [1.34148939, 1.05223537, 1.        , ..., 0.910535  , 1.33689112,\n",
       "        1.34117935],\n",
       "       ...,\n",
       "       [1.40375204, 1.13054203, 1.08209335, ..., 1.        , 1.39935838,\n",
       "        1.40345576],\n",
       "       [1.00613912, 0.56561597, 0.46121811, ..., 0.20444103, 1.        ,\n",
       "        1.00572571],\n",
       "       [1.00041579, 0.55537125, 0.44859553, ..., 0.17410325, 0.99424132,\n",
       "        1.        ]])"
      ]
     },
     "execution_count": 47,
     "metadata": {},
     "output_type": "execute_result"
    }
   ],
   "source": [
    "import numpy as np\n",
    "b = np.array([1,2])\n",
    "X = np.array([[1,2],[3,4]])\n",
    "ans = np.dot(X,b)\n",
    "print(\"about X・b\",ans,type(ans),ans.shape)\n",
    "print(\"flatten X\",X.reshape(1,4))\n",
    "# Create an array of the integers 1 to 10, inclusive, setting the datatype to float.\n",
    "dtf= np.arange(1,11)\n",
    "dtf.astype('float64')\n",
    "# Create a 10x10 identity matrix using the built in numpy function.\n",
    "print(np.eye(10))\n",
    "# Create a 10x10 identity matrix using a for loop.\n",
    "I = []\n",
    "for i in range(10):\n",
    "    row=[]\n",
    "    for j in range(10):\n",
    "        if i==j:\n",
    "            row.append(1)\n",
    "        else:\n",
    "            row.append(0)\n",
    "    I.append(row)\n",
    "print(I)\n",
    "\n",
    "x = np.random.normal(0, 1, 900).reshape(100,9)\n",
    "x =np.hstack([np.ones(100).reshape(100,1),x])\n",
    "print(x.shape)\n",
    "b = np.random.uniform(0.0, 1.0, 10).reshape(10,1)\n",
    "\n",
    "e = np.random.normal(0, 1, 100).reshape(100,1)\n",
    "y = np.dot(x,b)+e\n",
    "# print(y)\n",
    "# create a vector c  containing the labels \"positive\" or \"negative\" for each value in  y\n",
    "c = y>=0\n",
    "# print(c)\n",
    "xp = y[c]\n",
    "xn = y[~c]\n",
    "#12 Generate a meshgrid on the interval [0, 1], of shape 100x100. \n",
    "xx,yy = np.meshgrid(np.random.rand(100),np.random.rand(100))\n",
    "dst = (xx**2+yy**2)**(1/2)\n",
    "#13\n",
    "p = np.random.rand(100)*2*np.pi\n",
    "print(p)\n",
    "x = np.cos(p)\n",
    "y = np.sin(p)\n",
    "xx,yy=np.meshgrid(x,y)\n",
    "r = (xx**2 + yy**2)**(1/2)\n"
   ]
  },
  {
   "cell_type": "code",
   "execution_count": 74,
   "metadata": {},
   "outputs": [
    {
     "name": "stdout",
     "output_type": "stream",
     "text": [
      "NormalDst- mean: 0.07875434320062015  median: 0.1895124667119249\n",
      "UniformDst- mean: 0.6264841344065852  median: 0.6015284129984071\n",
      "a (2, 5) c (2, 5)\n",
      "a (10,) c (2, 5)\n"
     ]
    }
   ],
   "source": [
    "#14  Generate two lists, a, b, consisting of 10 randomly drawn values \n",
    "# from a normal and uniform distribution respectively.\n",
    "# Compute the mean and median of each.\n",
    "a = np.random.normal(0, 1, 10)\n",
    "b = np.random.uniform(0, 1, 10)\n",
    "print(\"NormalDst- mean:\",a.mean(),\" median:\",np.median(a))\n",
    "print(\"UniformDst- mean:\",b.mean(),\" median:\",np.median(b))\n",
    "\n",
    "#15 Using a from part 14, create a new list c by calling a = c. \n",
    "# Now change the shape of c. Comment on your results.\n",
    "a = c\n",
    "c = c.reshape(2,5)\n",
    "print(\"a\",a.shape,\"c\",c.shape)\n",
    "#16 How would you solve the problem that appeared in part 15?\n",
    "a = np.random.normal(0, 1, 10)\n",
    "c = np.copy(a)\n",
    "c = c.reshape(2,5)\n",
    "print(\"a\",a.shape,\"c\",c.shape)\n"
   ]
  },
  {
   "cell_type": "code",
   "execution_count": 67,
   "metadata": {},
   "outputs": [
    {
     "name": "stdout",
     "output_type": "stream",
     "text": [
      "(3,)\n",
      "<class 'numpy.ndarray'>\n"
     ]
    }
   ],
   "source": [
    "print(np.array([1,2,3]).shape)\n",
    "print(type(np.arange(1,11)))"
   ]
  },
  {
   "cell_type": "code",
   "execution_count": 7,
   "metadata": {},
   "outputs": [
    {
     "data": {
      "text/plain": [
       "array([[1, 1],\n",
       "       [3, 3],\n",
       "       [4, 4]])"
      ]
     },
     "execution_count": 7,
     "metadata": {},
     "output_type": "execute_result"
    }
   ],
   "source": [
    "p = [[1],[3],[4]]\n",
    "q = [[1],[3],[4]]\n",
    "np.hstack([p,q])"
   ]
  },
  {
   "cell_type": "code",
   "execution_count": 32,
   "metadata": {},
   "outputs": [
    {
     "data": {
      "text/plain": [
       "array([1, 5])"
      ]
     },
     "execution_count": 32,
     "metadata": {},
     "output_type": "execute_result"
    }
   ],
   "source": [
    "arr=np.array([1,-2,5,-4])\n",
    "c=arr>0\n",
    "arr[~c]\n",
    "arr[c]\n"
   ]
  },
  {
   "cell_type": "code",
   "execution_count": 41,
   "metadata": {},
   "outputs": [
    {
     "data": {
      "text/plain": [
       "array([[  0, 100, 200, 300],\n",
       "       [ 10, 110, 210, 310],\n",
       "       [ 20, 120, 220, 320],\n",
       "       [ 30, 130, 230, 330],\n",
       "       [ 40, 140, 240, 340],\n",
       "       [ 50, 150, 250, 350],\n",
       "       [ 60, 160, 260, 360],\n",
       "       [ 70, 170, 270, 370],\n",
       "       [ 80, 180, 280, 380],\n",
       "       [ 90, 190, 290, 390]])"
      ]
     },
     "execution_count": 41,
     "metadata": {},
     "output_type": "execute_result"
    }
   ],
   "source": [
    "#hold entrance fee of a green park which famous for clolord leaves at each season of each year\n",
    "seasons = [0,1,2,3] # Winter Spring, Summer, Autumn\n",
    "years = np.arange(2000,2010)\n",
    "ss,yy = np.meshgrid(seasons,years)\n",
    "prices = (yy-2000)*10+ss*100\n",
    "prices\n"
   ]
  },
  {
   "cell_type": "code",
   "execution_count": 43,
   "metadata": {},
   "outputs": [
    {
     "data": {
      "text/plain": [
       "array([0.41629726, 0.51909481, 0.12068383, 0.73341726, 0.27951285,\n",
       "       0.49203178, 0.97402111, 0.83675094, 0.11918631, 0.01349445])"
      ]
     },
     "execution_count": 43,
     "metadata": {},
     "output_type": "execute_result"
    }
   ],
   "source": [
    "np.random.rand(10)\n"
   ]
  },
  {
   "cell_type": "code",
   "execution_count": null,
   "metadata": {},
   "outputs": [],
   "source": []
  }
 ],
 "metadata": {
  "anaconda-cloud": {},
  "kernelspec": {
   "display_name": "Python 3",
   "language": "python",
   "name": "python3"
  },
  "language_info": {
   "codemirror_mode": {
    "name": "ipython",
    "version": 3
   },
   "file_extension": ".py",
   "mimetype": "text/x-python",
   "name": "python",
   "nbconvert_exporter": "python",
   "pygments_lexer": "ipython3",
   "version": "3.6.5"
  }
 },
 "nbformat": 4,
 "nbformat_minor": 2
}
